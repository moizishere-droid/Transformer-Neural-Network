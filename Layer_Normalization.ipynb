{
  "nbformat": 4,
  "nbformat_minor": 0,
  "metadata": {
    "colab": {
      "provenance": [],
      "gpuType": "T4"
    },
    "kernelspec": {
      "name": "python3",
      "display_name": "Python 3"
    },
    "language_info": {
      "name": "python"
    },
    "accelerator": "GPU"
  },
  "cells": [
    {
      "cell_type": "code",
      "execution_count": 1,
      "metadata": {
        "id": "jVOS2S6SeEeL"
      },
      "outputs": [],
      "source": [
        "import torch\n",
        "from torch import nn"
      ]
    },
    {
      "cell_type": "code",
      "source": [
        "\"\"\"\n",
        "inputs has shape [1, 2, 3] → (Batch=1, Seq=2, Embedding=3)\n",
        "You reshape it to [2, 1, 3] because in transformer convention:\n",
        "S → sequence length\n",
        "B → batch size\n",
        "E → embedding size\n",
        "So now each token (S=2) has an embedding vector of 3 numbers.\n",
        "\"\"\"\n",
        "\n",
        "inputs = torch.Tensor([[[0.2, 0.1, 0.3], [0.5, 0.1, 0.1]]])\n",
        "B, S, E = inputs.size()\n",
        "inputs = inputs.reshape(S, B, E)\n",
        "inputs.size()"
      ],
      "metadata": {
        "colab": {
          "base_uri": "https://localhost:8080/"
        },
        "id": "MRQ4uJ_xeX8B",
        "outputId": "c8bfd38f-97b0-4371-e6c9-639826b7e453"
      },
      "execution_count": 4,
      "outputs": [
        {
          "output_type": "execute_result",
          "data": {
            "text/plain": [
              "torch.Size([2, 1, 3])"
            ]
          },
          "metadata": {},
          "execution_count": 4
        }
      ]
    },
    {
      "cell_type": "code",
      "source": [
        "\"\"\"\n",
        "You create two learnable parameters:\n",
        "gamma (scale) → starts with ones\n",
        "beta (shift) → starts with zeros\n",
        "Both have the same shape as the embedding: [1, 3]\n",
        "These are the learnable weights used to rescale and shift normalized outputs.\n",
        "\"\"\"\n",
        "\n",
        "parameter_shape = inputs.size()[-2:]\n",
        "gamma = nn.Parameter(torch.ones(parameter_shape))\n",
        "beta = nn.Parameter(torch.zeros(parameter_shape))"
      ],
      "metadata": {
        "id": "HQZ5DL1oee6T"
      },
      "execution_count": 7,
      "outputs": []
    },
    {
      "cell_type": "code",
      "source": [
        "gamma.size(), beta.size()"
      ],
      "metadata": {
        "colab": {
          "base_uri": "https://localhost:8080/"
        },
        "id": "tms6YdDUfAxS",
        "outputId": "b8525bdb-3ccc-411e-aafc-68d6ba5d2224"
      },
      "execution_count": 6,
      "outputs": [
        {
          "output_type": "execute_result",
          "data": {
            "text/plain": [
              "(torch.Size([1, 3]), torch.Size([1, 3]))"
            ]
          },
          "metadata": {},
          "execution_count": 6
        }
      ]
    },
    {
      "cell_type": "code",
      "source": [
        "\"\"\"\n",
        "This computes the dimensions along which you’ll normalize.\n",
        "Since you want to normalize over the embedding dimensions, you take the last 2 axes.\n",
        "\"\"\"\n",
        "\n",
        "dims = [-(i + 1) for i in range(len(parameter_shape))]\n",
        "dims"
      ],
      "metadata": {
        "colab": {
          "base_uri": "https://localhost:8080/"
        },
        "id": "z2jwUniyfBFd",
        "outputId": "cf846b3c-daf9-4042-8529-eaaeae42659e"
      },
      "execution_count": 10,
      "outputs": [
        {
          "output_type": "execute_result",
          "data": {
            "text/plain": [
              "[-1, -2]"
            ]
          },
          "metadata": {},
          "execution_count": 10
        }
      ]
    },
    {
      "cell_type": "code",
      "source": [
        "\"\"\"\n",
        "Compute the mean for each token embedding.\n",
        "For every token (S=2), you average its 3 embedding values.\n",
        "Example: [0.2, 0.1, 0.3] → mean = 0.2.\n",
        "\"\"\"\n",
        "\n",
        "mean = inputs.mean(dim=dims, keepdim=True)\n",
        "mean.size()"
      ],
      "metadata": {
        "colab": {
          "base_uri": "https://localhost:8080/"
        },
        "id": "49zRYry8fNYq",
        "outputId": "f9d44ccb-944f-4570-e6e3-93938eff12f4"
      },
      "execution_count": 13,
      "outputs": [
        {
          "output_type": "execute_result",
          "data": {
            "text/plain": [
              "torch.Size([2, 1, 1])"
            ]
          },
          "metadata": {},
          "execution_count": 13
        }
      ]
    },
    {
      "cell_type": "code",
      "source": [
        "\"\"\"\n",
        "Compute variance → average of squared differences from the mean.\n",
        "Then take square root → standard deviation (std).\n",
        "Add small epsilon to avoid division by zero.\n",
        "\"\"\"\n",
        "\n",
        "epsilon = 1e-5\n",
        "var = ((inputs - mean) ** 2).mean(dim=dims, keepdim=True)\n",
        "std = (var + epsilon).sqrt()"
      ],
      "metadata": {
        "id": "bHXIuWCmfV2o"
      },
      "execution_count": 14,
      "outputs": []
    },
    {
      "cell_type": "code",
      "source": [
        "\"\"\"\n",
        "This normalizes the inputs:\n",
        "𝑦 = 𝑥 − mean / std\n",
        "Now each embedding vector has:\n",
        "Mean ≈ 0\n",
        "Std ≈ 1\n",
        "\"\"\"\n",
        "\n",
        "y = (inputs - mean) / std"
      ],
      "metadata": {
        "id": "1JVcn1-Hl4kz"
      },
      "execution_count": 18,
      "outputs": []
    },
    {
      "cell_type": "code",
      "source": [
        "\"\"\"\n",
        "Multiply by gamma (scale)\n",
        "Add beta (shift)\n",
        "These make normalization learnable, so model can later adjust the normalized data.\n",
        "\"\"\"\n",
        "\n",
        "out = gamma * y + beta"
      ],
      "metadata": {
        "id": "DvXZtuormJRl"
      },
      "execution_count": 19,
      "outputs": []
    },
    {
      "cell_type": "code",
      "source": [
        "import torch\n",
        "from torch import nn\n",
        "\n",
        "class LayerNormalization():\n",
        "    def __init__(self, parameters_shape, eps=1e-5):\n",
        "        self.parameters_shape=parameters_shape\n",
        "        self.eps=eps\n",
        "        self.gamma = nn.Parameter(torch.ones(parameters_shape))\n",
        "        self.beta =  nn.Parameter(torch.zeros(parameters_shape))\n",
        "\n",
        "    def forward(self, input):\n",
        "        dims = [-(i + 1) for i in range(len(self.parameters_shape))]\n",
        "        mean = inputs.mean(dim=dims, keepdim=True)\n",
        "        print(f\"Mean \\n ({mean.size()}): \\n {mean}\")\n",
        "        var = ((inputs - mean) ** 2).mean(dim=dims, keepdim=True)\n",
        "        std = (var + self.eps).sqrt()\n",
        "        print(f\"Standard Deviation \\n ({std.size()}): \\n {std}\")\n",
        "        y = (inputs - mean) / std\n",
        "        print(f\"y \\n ({y.size()}) = \\n {y}\")\n",
        "        out = self.gamma * y  + self.beta\n",
        "        print(f\"out \\n ({out.size()}) = \\n {out}\")\n",
        "        return out"
      ],
      "metadata": {
        "id": "HkxsPkZAmL04"
      },
      "execution_count": 20,
      "outputs": []
    },
    {
      "cell_type": "code",
      "source": [
        "batch_size = 3\n",
        "sentence_length = 5\n",
        "embedding_dim = 8\n",
        "inputs = torch.randn(sentence_length, batch_size, embedding_dim)\n",
        "\n",
        "print(f\"input \\n ({inputs.size()}) = \\n {inputs}\")"
      ],
      "metadata": {
        "colab": {
          "base_uri": "https://localhost:8080/"
        },
        "id": "XSapFStWmXro",
        "outputId": "d98c1d83-99e1-4988-8e10-290edaae02e1"
      },
      "execution_count": 21,
      "outputs": [
        {
          "output_type": "stream",
          "name": "stdout",
          "text": [
            "input \n",
            " (torch.Size([5, 3, 8])) = \n",
            " tensor([[[ 1.5531e+00, -1.3203e+00, -8.9852e-01, -3.8968e-01,  1.1432e+00,\n",
            "          -1.4133e-01, -2.1831e+00, -8.0777e-01],\n",
            "         [ 1.0404e-01,  3.7712e-01, -5.0668e-01, -1.5099e+00, -6.1259e-01,\n",
            "          -3.5395e-01,  2.1064e-01, -3.5194e-01],\n",
            "         [-1.0980e-01,  1.6165e+00,  1.1620e+00, -1.8649e+00, -2.9045e-01,\n",
            "          -1.5426e+00,  1.3990e+00,  1.2064e+00]],\n",
            "\n",
            "        [[-4.8764e-01,  1.1285e+00,  1.6624e-02,  9.1445e-01, -8.3786e-01,\n",
            "           1.0709e+00,  7.7118e-01, -2.6322e+00],\n",
            "         [-1.4271e+00,  2.1251e-01,  8.6352e-01, -5.5403e-01, -1.0171e+00,\n",
            "           7.4149e-01, -6.4174e-01, -1.2790e+00],\n",
            "         [ 1.3430e+00,  2.0475e+00,  2.3823e-01,  2.7290e-01,  8.6858e-01,\n",
            "           2.1184e-02, -1.1507e+00,  1.7641e-01]],\n",
            "\n",
            "        [[-9.3440e-01, -2.8756e-01, -3.2899e-01,  1.3814e+00,  1.0341e-03,\n",
            "          -7.5865e-01,  6.4666e-02,  8.6306e-01],\n",
            "         [ 4.6873e-01,  1.9462e+00, -4.6005e-01, -2.1770e-01, -9.4085e-01,\n",
            "           2.4146e+00, -1.3813e+00, -1.6618e+00],\n",
            "         [-5.5010e-01, -4.6070e-01,  6.9096e-01, -3.4030e-01, -2.0767e-01,\n",
            "           7.6379e-01, -1.2266e+00,  9.8374e-01]],\n",
            "\n",
            "        [[-1.6225e-01, -7.8945e-01,  3.1231e-01,  8.9021e-01,  2.4790e-01,\n",
            "          -1.0347e+00, -1.2800e+00, -9.3241e-01],\n",
            "         [-1.1069e+00,  2.2388e-01, -5.5689e-01,  5.7986e-01,  2.3222e-01,\n",
            "           1.2227e+00,  7.6712e-01, -2.0548e+00],\n",
            "         [-1.2651e+00,  1.7603e-01, -6.9069e-01, -2.7837e-01,  9.1876e-01,\n",
            "           3.1679e-02,  2.4010e-01, -9.3372e-01]],\n",
            "\n",
            "        [[-5.6900e-01,  1.7116e-01,  4.4617e-01,  4.5530e-01, -8.5024e-01,\n",
            "           5.4913e-01, -1.3129e+00,  2.4306e+00],\n",
            "         [-7.9203e-01,  6.4016e-01,  1.2773e-02,  1.5082e+00,  1.1735e+00,\n",
            "          -8.9556e-01,  6.4463e-01,  1.2505e+00],\n",
            "         [ 1.1930e-01, -1.9738e+00,  1.6482e+00,  2.5645e-01, -9.1429e-01,\n",
            "           2.8922e-02, -1.9573e+00, -7.8382e-01]]])\n"
          ]
        }
      ]
    },
    {
      "cell_type": "code",
      "source": [
        "layer_norm = LayerNormalization(inputs.size()[-1:])\n",
        "\n",
        "out = layer_norm.forward(inputs)"
      ],
      "metadata": {
        "colab": {
          "base_uri": "https://localhost:8080/"
        },
        "collapsed": true,
        "id": "bRSX_bBXmaks",
        "outputId": "9a903769-7fc5-44df-ac3b-7723ec45ebc9"
      },
      "execution_count": 23,
      "outputs": [
        {
          "output_type": "stream",
          "name": "stdout",
          "text": [
            "Mean \n",
            " (torch.Size([5, 3, 1])): \n",
            " tensor([[[-3.8054e-01],\n",
            "         [-3.3040e-01],\n",
            "         [ 1.9702e-01]],\n",
            "\n",
            "        [[-6.9945e-03],\n",
            "         [-3.8768e-01],\n",
            "         [ 4.7713e-01]],\n",
            "\n",
            "        [[ 6.4559e-05],\n",
            "         [ 2.0969e-02],\n",
            "         [-4.3356e-02]],\n",
            "\n",
            "        [[-3.4355e-01],\n",
            "         [-8.6600e-02],\n",
            "         [-2.2516e-01]],\n",
            "\n",
            "        [[ 1.6503e-01],\n",
            "         [ 4.4278e-01],\n",
            "         [-4.4705e-01]]])\n",
            "Standard Deviation \n",
            " (torch.Size([5, 3, 1])): \n",
            " tensor([[[1.1566],\n",
            "         [0.5573],\n",
            "         [1.2757]],\n",
            "\n",
            "        [[1.2103],\n",
            "         [0.8340],\n",
            "         [0.8955]],\n",
            "\n",
            "        [[0.7329],\n",
            "         [1.3986],\n",
            "         [0.7239]],\n",
            "\n",
            "        [[0.7276],\n",
            "         [1.0137],\n",
            "         [0.6666]],\n",
            "\n",
            "        [[1.0722],\n",
            "         [0.8589],\n",
            "         [1.1389]]])\n",
            "y \n",
            " (torch.Size([5, 3, 8])) = \n",
            " tensor([[[ 1.6718e+00, -8.1251e-01, -4.4786e-01, -7.8967e-03,  1.3175e+00,\n",
            "           2.0683e-01, -1.5585e+00, -3.6939e-01],\n",
            "         [ 7.7950e-01,  1.2695e+00, -3.1628e-01, -2.1162e+00, -5.0632e-01,\n",
            "          -4.2255e-02,  9.7077e-01, -3.8639e-02],\n",
            "         [-2.4051e-01,  1.1127e+00,  7.5646e-01, -1.6163e+00, -3.8212e-01,\n",
            "          -1.3637e+00,  9.4223e-01,  7.9122e-01]],\n",
            "\n",
            "        [[-3.9711e-01,  9.3817e-01,  1.9514e-02,  7.6131e-01, -6.8647e-01,\n",
            "           8.9060e-01,  6.4294e-01, -2.1689e+00],\n",
            "         [-1.2464e+00,  7.1968e-01,  1.5003e+00, -1.9946e-01, -7.5474e-01,\n",
            "           1.3540e+00, -3.0464e-01, -1.0687e+00],\n",
            "         [ 9.6685e-01,  1.7535e+00, -2.6677e-01, -2.2805e-01,  4.3711e-01,\n",
            "          -5.0912e-01, -1.8177e+00, -3.3580e-01]],\n",
            "\n",
            "        [[-1.2751e+00, -3.9246e-01, -4.4899e-01,  1.8848e+00,  1.3229e-03,\n",
            "          -1.0353e+00,  8.8148e-02,  1.1775e+00],\n",
            "         [ 3.2016e-01,  1.3766e+00, -3.4393e-01, -1.7065e-01, -6.8771e-01,\n",
            "           1.7114e+00, -1.0027e+00, -1.2032e+00],\n",
            "         [-7.0006e-01, -5.7656e-01,  1.0144e+00, -4.1022e-01, -2.2700e-01,\n",
            "           1.1150e+00, -1.6346e+00,  1.4189e+00]],\n",
            "\n",
            "        [[ 2.4917e-01, -6.1284e-01,  9.0139e-01,  1.6956e+00,  8.1286e-01,\n",
            "          -9.4987e-01, -1.2870e+00, -8.0933e-01],\n",
            "         [-1.0065e+00,  3.0627e-01, -4.6392e-01,  6.5742e-01,  3.1450e-01,\n",
            "           1.2916e+00,  8.4214e-01, -1.9415e+00],\n",
            "         [-1.5600e+00,  6.0183e-01, -6.9834e-01, -7.9817e-02,  1.7160e+00,\n",
            "           3.8529e-01,  6.9794e-01, -1.0629e+00]],\n",
            "\n",
            "        [[-6.8457e-01,  5.7149e-03,  2.6220e-01,  2.7071e-01, -9.4686e-01,\n",
            "           3.5822e-01, -1.3783e+00,  2.1129e+00],\n",
            "         [-1.4376e+00,  2.2980e-01, -5.0062e-01,  1.2404e+00,  8.5076e-01,\n",
            "          -1.5581e+00,  2.3501e-01,  9.4037e-01],\n",
            "         [ 4.9730e-01, -1.3406e+00,  1.8398e+00,  6.1772e-01, -4.1026e-01,\n",
            "           4.1794e-01, -1.3261e+00, -2.9571e-01]]])\n",
            "out \n",
            " (torch.Size([5, 3, 8])) = \n",
            " tensor([[[ 1.6718e+00, -8.1251e-01, -4.4786e-01, -7.8967e-03,  1.3175e+00,\n",
            "           2.0683e-01, -1.5585e+00, -3.6939e-01],\n",
            "         [ 7.7950e-01,  1.2695e+00, -3.1628e-01, -2.1162e+00, -5.0632e-01,\n",
            "          -4.2255e-02,  9.7077e-01, -3.8639e-02],\n",
            "         [-2.4051e-01,  1.1127e+00,  7.5646e-01, -1.6163e+00, -3.8212e-01,\n",
            "          -1.3637e+00,  9.4223e-01,  7.9122e-01]],\n",
            "\n",
            "        [[-3.9711e-01,  9.3817e-01,  1.9514e-02,  7.6131e-01, -6.8647e-01,\n",
            "           8.9060e-01,  6.4294e-01, -2.1689e+00],\n",
            "         [-1.2464e+00,  7.1968e-01,  1.5003e+00, -1.9946e-01, -7.5474e-01,\n",
            "           1.3540e+00, -3.0464e-01, -1.0687e+00],\n",
            "         [ 9.6685e-01,  1.7535e+00, -2.6677e-01, -2.2805e-01,  4.3711e-01,\n",
            "          -5.0912e-01, -1.8177e+00, -3.3580e-01]],\n",
            "\n",
            "        [[-1.2751e+00, -3.9246e-01, -4.4899e-01,  1.8848e+00,  1.3229e-03,\n",
            "          -1.0353e+00,  8.8148e-02,  1.1775e+00],\n",
            "         [ 3.2016e-01,  1.3766e+00, -3.4393e-01, -1.7065e-01, -6.8771e-01,\n",
            "           1.7114e+00, -1.0027e+00, -1.2032e+00],\n",
            "         [-7.0006e-01, -5.7656e-01,  1.0144e+00, -4.1022e-01, -2.2700e-01,\n",
            "           1.1150e+00, -1.6346e+00,  1.4189e+00]],\n",
            "\n",
            "        [[ 2.4917e-01, -6.1284e-01,  9.0139e-01,  1.6956e+00,  8.1286e-01,\n",
            "          -9.4987e-01, -1.2870e+00, -8.0933e-01],\n",
            "         [-1.0065e+00,  3.0627e-01, -4.6392e-01,  6.5742e-01,  3.1450e-01,\n",
            "           1.2916e+00,  8.4214e-01, -1.9415e+00],\n",
            "         [-1.5600e+00,  6.0183e-01, -6.9834e-01, -7.9817e-02,  1.7160e+00,\n",
            "           3.8529e-01,  6.9794e-01, -1.0629e+00]],\n",
            "\n",
            "        [[-6.8457e-01,  5.7149e-03,  2.6220e-01,  2.7071e-01, -9.4686e-01,\n",
            "           3.5822e-01, -1.3783e+00,  2.1129e+00],\n",
            "         [-1.4376e+00,  2.2980e-01, -5.0062e-01,  1.2404e+00,  8.5076e-01,\n",
            "          -1.5581e+00,  2.3501e-01,  9.4037e-01],\n",
            "         [ 4.9730e-01, -1.3406e+00,  1.8398e+00,  6.1772e-01, -4.1026e-01,\n",
            "           4.1794e-01, -1.3261e+00, -2.9571e-01]]], grad_fn=<AddBackward0>)\n"
          ]
        }
      ]
    },
    {
      "cell_type": "code",
      "source": [
        "out[0].mean(), out[0].std()"
      ],
      "metadata": {
        "colab": {
          "base_uri": "https://localhost:8080/"
        },
        "id": "lkYU8izYmfcR",
        "outputId": "41257b43-6ae1-4e74-b2b8-3ec94c20ccc3"
      },
      "execution_count": 24,
      "outputs": [
        {
          "output_type": "execute_result",
          "data": {
            "text/plain": [
              "(tensor(6.2088e-09, grad_fn=<MeanBackward0>),\n",
              " tensor(1.0215, grad_fn=<StdBackward0>))"
            ]
          },
          "metadata": {},
          "execution_count": 24
        }
      ]
    }
  ]
}