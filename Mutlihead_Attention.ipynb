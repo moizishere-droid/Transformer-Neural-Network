{
  "nbformat": 4,
  "nbformat_minor": 0,
  "metadata": {
    "colab": {
      "provenance": [],
      "gpuType": "T4"
    },
    "kernelspec": {
      "name": "python3",
      "display_name": "Python 3"
    },
    "language_info": {
      "name": "python"
    },
    "accelerator": "GPU"
  },
  "cells": [
    {
      "cell_type": "code",
      "execution_count": 18,
      "metadata": {
        "id": "WGANp_DmZN9n"
      },
      "outputs": [],
      "source": [
        "import numpy as np\n",
        "import torch\n",
        "import torch.nn as nn\n",
        "import torch.nn.functional as F\n",
        "import math"
      ]
    },
    {
      "cell_type": "code",
      "source": [
        "sequence_length = 4\n",
        "batch_size = 1\n",
        "input_dim = 512\n",
        "d_model = 512\n",
        "x = torch.randn( (batch_size, sequence_length, input_dim) )"
      ],
      "metadata": {
        "id": "QteHDzkpZlkL"
      },
      "execution_count": null,
      "outputs": []
    },
    {
      "cell_type": "code",
      "source": [
        "x.size()"
      ],
      "metadata": {
        "id": "CXpCWJXxaaj6"
      },
      "execution_count": null,
      "outputs": []
    },
    {
      "cell_type": "code",
      "source": [
        "qkv_layer = nn.Linear(input_dim , 3 * d_model)"
      ],
      "metadata": {
        "id": "hTGzOX1zafDj"
      },
      "execution_count": null,
      "outputs": []
    },
    {
      "cell_type": "code",
      "source": [
        "qkv = qkv_layer(x)"
      ],
      "metadata": {
        "id": "zWfIEeR2amIf"
      },
      "execution_count": null,
      "outputs": []
    },
    {
      "cell_type": "code",
      "source": [
        "qkv.shape\n"
      ],
      "metadata": {
        "id": "gJQvNDJ9arWe"
      },
      "execution_count": null,
      "outputs": []
    },
    {
      "cell_type": "code",
      "source": [
        "import matplotlib.pyplot as plt\n",
        "y_val = torch.histc(qkv, bins=200, min=-3, max=3)\n",
        "x_val = np.arange(-1, 1, 0.01) * 3\n",
        "plt.bar(x_val, y_val, align='center', color=['forestgreen'])\n",
        "plt.title('qkv distribution')"
      ],
      "metadata": {
        "id": "-8XrGbIwatV7"
      },
      "execution_count": null,
      "outputs": []
    },
    {
      "cell_type": "markdown",
      "source": [
        "# ***Multi Head Attention***"
      ],
      "metadata": {
        "id": "2ienEUQtYVmJ"
      }
    },
    {
      "cell_type": "markdown",
      "source": [
        "Multi-head attention just repeats this multiple times in parallel with different \"heads\" and then combines them."
      ],
      "metadata": {
        "id": "2Sd4-9ekYnu7"
      }
    },
    {
      "cell_type": "code",
      "source": [
        "\"\"\"\n",
        "torch, nn → for building the model\n",
        "F → for functions like softmax\n",
        "math → for square root in attention scaling\n",
        "numpy and matplotlib (used earlier for histogram visualization)\n",
        "\"\"\"\n",
        "\n",
        "import numpy as np\n",
        "import torch\n",
        "import torch.nn as nn\n",
        "import torch.nn.functional as F"
      ],
      "metadata": {
        "id": "Ei6YfOy8a6ou"
      },
      "execution_count": 2,
      "outputs": []
    },
    {
      "cell_type": "code",
      "source": [
        "\"\"\"\n",
        "x has shape [1, 4, 512]\n",
        "1 → number of sequences in the batch\n",
        "4 → tokens per sequence\n",
        "512 → each token’s embedding dimension\n",
        "✅ Shape: [batch_size, sequence_length, input_dim]\n",
        "\"\"\"\n",
        "\n",
        "sequence_length = 4\n",
        "batch_size = 1\n",
        "input_dim = 512\n",
        "d_model = 512\n",
        "x = torch.randn((batch_size, sequence_length, input_dim))"
      ],
      "metadata": {
        "id": "zImXCOJeYZxY"
      },
      "execution_count": 4,
      "outputs": []
    },
    {
      "cell_type": "code",
      "source": [
        "x.size()"
      ],
      "metadata": {
        "colab": {
          "base_uri": "https://localhost:8080/"
        },
        "id": "xHhvoxG2ZNe-",
        "outputId": "61ec7ef5-6e59-4d7a-9bf0-ff671d65576d"
      },
      "execution_count": 5,
      "outputs": [
        {
          "output_type": "execute_result",
          "data": {
            "text/plain": [
              "torch.Size([1, 4, 512])"
            ]
          },
          "metadata": {},
          "execution_count": 5
        }
      ]
    },
    {
      "cell_type": "code",
      "source": [
        "\"\"\"\n",
        "You pass each 512-dim input vector through a linear layer to produce Q, K, and V together.\n",
        "The output has 3 × 512 = 1536 features per token.\n",
        "✅ Shape: [1, 4, 1536]\n",
        "\"\"\"\n",
        "\n",
        "qkv_layer = nn.Linear(input_dim , 3 * d_model)\n",
        "qkv = qkv_layer(x)"
      ],
      "metadata": {
        "id": "ldA-SNE1ZYdn"
      },
      "execution_count": 7,
      "outputs": []
    },
    {
      "cell_type": "code",
      "source": [
        "qkv.shape"
      ],
      "metadata": {
        "colab": {
          "base_uri": "https://localhost:8080/"
        },
        "id": "S6gisBdGZdJa",
        "outputId": "7058628d-ecd0-48e1-faf1-1f3199ef1ae7"
      },
      "execution_count": 8,
      "outputs": [
        {
          "output_type": "execute_result",
          "data": {
            "text/plain": [
              "torch.Size([1, 4, 1536])"
            ]
          },
          "metadata": {},
          "execution_count": 8
        }
      ]
    },
    {
      "cell_type": "code",
      "source": [
        "\"\"\"\n",
        "You reshape [1, 4, 1536] → [1, 4, 8, 192]\n",
        "(because 3 * head_dim = 3 * 64 = 192)\n",
        "This separates the features into 8 attention heads.\n",
        "✅ Shape: [batch, seq_len, num_heads, 3*head_dim]\n",
        "\"\"\"\n",
        "\n",
        "num_heads = 8\n",
        "head_dim = d_model // num_heads  # 512 / 8 = 64\n",
        "qkv = qkv.reshape(batch_size, sequence_length, num_heads, 3 * head_dim)"
      ],
      "metadata": {
        "id": "JKb8EGvoZ7h5"
      },
      "execution_count": 10,
      "outputs": []
    },
    {
      "cell_type": "code",
      "source": [
        "qkv.shape"
      ],
      "metadata": {
        "colab": {
          "base_uri": "https://localhost:8080/"
        },
        "id": "cgl0lxjVaJrb",
        "outputId": "8133b460-ab22-4ce2-e413-bf3a610c49f6"
      },
      "execution_count": 11,
      "outputs": [
        {
          "output_type": "execute_result",
          "data": {
            "text/plain": [
              "torch.Size([1, 4, 8, 192])"
            ]
          },
          "metadata": {},
          "execution_count": 11
        }
      ]
    },
    {
      "cell_type": "code",
      "source": [
        "\"\"\"\n",
        "You move num_heads to the 2nd dimension to make processing easier per head.\n",
        "✅ Shape: [1, 8, 4, 192]\n",
        "→ 1 batch, 8 heads, 4 tokens, 192 dims (for Q, K, V combined)\n",
        "\"\"\"\n",
        "\n",
        "qkv = qkv.permute(0, 2, 1, 3) # [batch_size, num_heads, sequence_length, 3*head_dim]\n",
        "qkv.shape"
      ],
      "metadata": {
        "colab": {
          "base_uri": "https://localhost:8080/"
        },
        "id": "ZrujYdWLaNEe",
        "outputId": "942dfe27-526c-487c-82b6-b42ee8144c83"
      },
      "execution_count": 13,
      "outputs": [
        {
          "output_type": "execute_result",
          "data": {
            "text/plain": [
              "torch.Size([1, 4, 8, 192])"
            ]
          },
          "metadata": {},
          "execution_count": 13
        }
      ]
    },
    {
      "cell_type": "code",
      "source": [
        "\"\"\"\n",
        "You split the last dimension (192) into three equal parts:\n",
        "q, k, v each get 64 dims.\n",
        "✅ Each shape: [1, 8, 4, 64]\n",
        "So now, for each head, you have:\n",
        "4 queries (one per token)\n",
        "4 keys\n",
        "4 values\n",
        "\"\"\"\n",
        "\n",
        "q, k, v = qkv.chunk(3, dim=-1)\n",
        "q.shape, k.shape, v.shape"
      ],
      "metadata": {
        "colab": {
          "base_uri": "https://localhost:8080/"
        },
        "id": "qKOoWbsIaSMA",
        "outputId": "568f8be5-100f-406a-810b-2c4588d37f67"
      },
      "execution_count": 16,
      "outputs": [
        {
          "output_type": "execute_result",
          "data": {
            "text/plain": [
              "(torch.Size([1, 4, 8, 64]),\n",
              " torch.Size([1, 4, 8, 64]),\n",
              " torch.Size([1, 4, 8, 64]))"
            ]
          },
          "metadata": {},
          "execution_count": 16
        }
      ]
    },
    {
      "cell_type": "markdown",
      "source": [
        "![image.png](data:image/png;base64,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)"
      ],
      "metadata": {
        "id": "BSvit7kIatET"
      }
    },
    {
      "cell_type": "code",
      "source": [
        "\"\"\"\n",
        "Multiply Q × Kᵀ for similarity.\n",
        "Divide by √dₖ = √64 = 8 → prevents large values that hurt softmax.\n",
        "✅ Shape: [1, 8, 4, 4]\n",
        "→ For each head: 4×4 matrix showing how much each token attends to every other token.\n",
        "\"\"\"\n",
        "\n",
        "d_k = q.size()[-1]\n",
        "scaled = torch.matmul(q, k.transpose(-1, -2)) / math.sqrt(d_k)\n",
        "scaled.shape"
      ],
      "metadata": {
        "colab": {
          "base_uri": "https://localhost:8080/"
        },
        "id": "LJrVs7N-aeX9",
        "outputId": "eeaa43b1-6014-49b3-fb76-4830c1e6358f"
      },
      "execution_count": 22,
      "outputs": [
        {
          "output_type": "execute_result",
          "data": {
            "text/plain": [
              "torch.Size([1, 4, 8, 8])"
            ]
          },
          "metadata": {},
          "execution_count": 22
        }
      ]
    },
    {
      "cell_type": "code",
      "source": [
        "k.T.shape"
      ],
      "metadata": {
        "colab": {
          "base_uri": "https://localhost:8080/"
        },
        "id": "UxHBHJuTayg3",
        "outputId": "165b1179-c1ab-4be2-d2ed-03012cf86dc5"
      },
      "execution_count": 23,
      "outputs": [
        {
          "output_type": "execute_result",
          "data": {
            "text/plain": [
              "torch.Size([64, 8, 4, 1])"
            ]
          },
          "metadata": {},
          "execution_count": 23
        }
      ]
    },
    {
      "cell_type": "code",
      "source": [
        "mask = torch.full(scaled.size(), float('-inf'))\n",
        "mask = torch.triu(mask, diagonal=1)\n",
        "scaled += mask"
      ],
      "metadata": {
        "id": "fiUIknfia8o2"
      },
      "execution_count": 24,
      "outputs": []
    },
    {
      "cell_type": "code",
      "source": [
        "scaled[0][0]"
      ],
      "metadata": {
        "colab": {
          "base_uri": "https://localhost:8080/"
        },
        "id": "avELGQ00bQo_",
        "outputId": "60e752fb-9982-47ab-dea1-ceb08869f173"
      },
      "execution_count": 25,
      "outputs": [
        {
          "output_type": "execute_result",
          "data": {
            "text/plain": [
              "tensor([[ 0.2894,    -inf,    -inf,    -inf,    -inf,    -inf,    -inf,    -inf],\n",
              "        [-0.1887,  0.1162,    -inf,    -inf,    -inf,    -inf,    -inf,    -inf],\n",
              "        [ 0.2285,  0.5113,  0.0560,    -inf,    -inf,    -inf,    -inf,    -inf],\n",
              "        [-0.1282, -0.5196,  0.3257, -0.5121,    -inf,    -inf,    -inf,    -inf],\n",
              "        [ 0.0940, -0.0195,  0.2523, -0.1912,  0.2127,    -inf,    -inf,    -inf],\n",
              "        [ 0.0731,  0.3744, -0.2605,  0.2175,  0.0957, -0.2880,    -inf,    -inf],\n",
              "        [ 0.1839,  0.4767,  0.2994, -0.0791,  0.1000, -0.3882,  0.5433,    -inf],\n",
              "        [-0.4190,  0.3728,  0.1562,  0.2841, -0.5376, -0.0579,  0.1989, -0.0129]],\n",
              "       grad_fn=<SelectBackward0>)"
            ]
          },
          "metadata": {},
          "execution_count": 25
        }
      ]
    },
    {
      "cell_type": "code",
      "source": [
        "\"\"\"\n",
        "Converts scores into probabilities (each row sums to 1).\n",
        "✅ Shape: [1, 8, 4, 4]\n",
        "\"\"\"\n",
        "\n",
        "attention = F.softmax(scaled, dim=-1)"
      ],
      "metadata": {
        "id": "Nu3-QtxLbZDm"
      },
      "execution_count": 27,
      "outputs": []
    },
    {
      "cell_type": "code",
      "source": [
        "attention[0][0]"
      ],
      "metadata": {
        "colab": {
          "base_uri": "https://localhost:8080/"
        },
        "id": "nZvtGEKqcEu-",
        "outputId": "1755a5dd-224c-47c3-8939-ae3cb590c65e"
      },
      "execution_count": 34,
      "outputs": [
        {
          "output_type": "execute_result",
          "data": {
            "text/plain": [
              "tensor([[1.0000, 0.0000, 0.0000, 0.0000, 0.0000, 0.0000, 0.0000, 0.0000],\n",
              "        [0.4244, 0.5756, 0.0000, 0.0000, 0.0000, 0.0000, 0.0000, 0.0000],\n",
              "        [0.3156, 0.4188, 0.2656, 0.0000, 0.0000, 0.0000, 0.0000, 0.0000],\n",
              "        [0.2543, 0.1720, 0.4004, 0.1733, 0.0000, 0.0000, 0.0000, 0.0000],\n",
              "        [0.2023, 0.1806, 0.2370, 0.1521, 0.2278, 0.0000, 0.0000, 0.0000],\n",
              "        [0.1683, 0.2274, 0.1205, 0.1944, 0.1721, 0.1173, 0.0000, 0.0000],\n",
              "        [0.1399, 0.1875, 0.1570, 0.1075, 0.1286, 0.0790, 0.2004, 0.0000],\n",
              "        [0.0788, 0.1740, 0.1401, 0.1593, 0.0700, 0.1131, 0.1462, 0.1183]],\n",
              "       grad_fn=<SelectBackward0>)"
            ]
          },
          "metadata": {},
          "execution_count": 34
        }
      ]
    },
    {
      "cell_type": "code",
      "source": [
        "\"\"\"\n",
        "This multiplies each v vector by its corresponding attention weight → “contextualizes” each token.\n",
        "✅ Shape: [1, 8, 4, 64]\n",
        "\"\"\"\n",
        "values = torch.matmul(attention, v)"
      ],
      "metadata": {
        "id": "cCbGQm7Fbesd"
      },
      "execution_count": 28,
      "outputs": []
    },
    {
      "cell_type": "code",
      "source": [
        "\"\"\"\n",
        "This wraps the whole attention logic into one function for reuse.\n",
        "\"\"\"\n",
        "\n",
        "def scaled_dot_product(q, k, v, mask=None):\n",
        "    d_k = q.size()[-1]\n",
        "    scaled = torch.matmul(q, k.transpose(-1, -2)) / math.sqrt(d_k)\n",
        "    if mask is not None:\n",
        "        scaled += mask\n",
        "    attention = F.softmax(scaled, dim=-1)\n",
        "    values = torch.matmul(attention, v)\n",
        "    return values, attention"
      ],
      "metadata": {
        "id": "2dChedoebnwO"
      },
      "execution_count": 30,
      "outputs": []
    },
    {
      "cell_type": "code",
      "source": [
        "\"\"\"\n",
        "Inside the constructor:\n",
        "You define parameters\n",
        "Create two linear layers:\n",
        "qkv_layer → generates Q, K, V\n",
        "linear_layer → merges heads at the end\n",
        "\"\"\"\n",
        "\n",
        "class MultiheadAttention(nn.Module):\n",
        "    def __init__(self, input_dim, d_model, num_heads):\n",
        "        super().__init__()\n",
        "        self.input_dim = input_dim\n",
        "        self.d_model = d_model\n",
        "        self.num_heads = num_heads\n",
        "        self.head_dim = d_model // num_heads\n",
        "        self.qkv_layer = nn.Linear(input_dim, 3 * d_model)\n",
        "        self.linear_layer = nn.Linear(d_model, d_model)"
      ],
      "metadata": {
        "id": "YPpjFBWxbq-P"
      },
      "execution_count": 32,
      "outputs": []
    },
    {
      "cell_type": "code",
      "source": [
        "\"\"\"\n",
        "Step\t    Operation     \t      Input Shape\t      Output Shape\n",
        "1\t        Linear projection\t    [30,5,1024]\t      [30,5,1536]\n",
        "2\t        Reshape\t              [30,5,1536]\t      [30,5,8,192]\n",
        "3\t        Permute\t              [30,5,8,192]\t    [30,8,5,192]\n",
        "4\t        Split Q,K,V\t          [30,8,5,192]\t    [30,8,5,64] each\n",
        "5\t        Attention             [30,8,5,64]\t      [30,8,5,64]\n",
        "6\t        Merge heads\t          [30,8,5,64]\t      [30,5,512]\n",
        "7\t        Final linear\t        [30,5,512]\t      [30,5,512]\n",
        "\"\"\"\n",
        "\n",
        "\n",
        "def forward(self, x, mask=None):\n",
        "    batch_size, sequence_length, input_dim = x.size()\n",
        "    qkv = self.qkv_layer(x)\n",
        "    qkv = qkv.reshape(batch_size, sequence_length, self.num_heads, 3 * self.head_dim)\n",
        "    qkv = qkv.permute(0, 2, 1, 3)\n",
        "    q, k, v = qkv.chunk(3, dim=-1)\n",
        "    values, attention = scaled_dot_product(q, k, v, mask)\n",
        "    values = values.reshape(batch_size, sequence_length, self.num_heads * self.head_dim)\n",
        "    out = self.linear_layer(values)\n",
        "    return out"
      ],
      "metadata": {
        "id": "IEHVpxMKby19"
      },
      "execution_count": 33,
      "outputs": []
    },
    {
      "cell_type": "code",
      "source": [
        "# FINAL CLASS\n",
        "\n",
        "import torch\n",
        "import torch.nn as nn\n",
        "import math\n",
        "\n",
        "def scaled_dot_product(q, k, v, mask=None):\n",
        "    d_k = q.size()[-1]\n",
        "    scaled = torch.matmul(q, k.transpose(-1, -2)) / math.sqrt(d_k)\n",
        "    if mask is not None:\n",
        "        scaled += mask\n",
        "    attention = F.softmax(scaled, dim=-1)\n",
        "    values = torch.matmul(attention, v)\n",
        "    return values, attention\n",
        "\n",
        "class MultiheadAttention(nn.Module):\n",
        "\n",
        "    def __init__(self, input_dim, d_model, num_heads):\n",
        "        super().__init__()\n",
        "        self.input_dim = input_dim\n",
        "        self.d_model = d_model\n",
        "        self.num_heads = num_heads\n",
        "        self.head_dim = d_model // num_heads\n",
        "        self.qkv_layer = nn.Linear(input_dim , 3 * d_model)\n",
        "        self.linear_layer = nn.Linear(d_model, d_model)\n",
        "\n",
        "    def forward(self, x, mask=None):\n",
        "        batch_size, sequence_length, input_dim = x.size()\n",
        "        print(f\"x.size(): {x.size()}\")\n",
        "        qkv = self.qkv_layer(x)\n",
        "        print(f\"qkv.size(): {qkv.size()}\")\n",
        "        qkv = qkv.reshape(batch_size, sequence_length, self.num_heads, 3 * self.head_dim)\n",
        "        print(f\"qkv.size(): {qkv.size()}\")\n",
        "        qkv = qkv.permute(0, 2, 1, 3)\n",
        "        print(f\"qkv.size(): {qkv.size()}\")\n",
        "        q, k, v = qkv.chunk(3, dim=-1)\n",
        "        print(f\"q size: {q.size()}, k size: {k.size()}, v size: {v.size()}, \")\n",
        "        values, attention = scaled_dot_product(q, k, v, mask)\n",
        "        print(f\"values.size(): {values.size()}, attention.size:{ attention.size()} \")\n",
        "        values = values.reshape(batch_size, sequence_length, self.num_heads * self.head_dim)\n",
        "        print(f\"values.size(): {values.size()}\")\n",
        "        out = self.linear_layer(values)\n",
        "        print(f\"out.size(): {out.size()}\")\n",
        "        return out"
      ],
      "metadata": {
        "id": "NeD7M9LYc4Mo"
      },
      "execution_count": 40,
      "outputs": []
    },
    {
      "cell_type": "code",
      "source": [
        "input_dim = 1024\n",
        "d_model = 512\n",
        "num_heads = 8\n",
        "\n",
        "batch_size = 30\n",
        "sequence_length = 5\n",
        "x = torch.randn( (batch_size, sequence_length, input_dim) )\n",
        "\n",
        "model = MultiheadAttention(input_dim, d_model, num_heads)\n",
        "out = model.forward(x)"
      ],
      "metadata": {
        "colab": {
          "base_uri": "https://localhost:8080/"
        },
        "id": "OnfJrj01b7Wy",
        "outputId": "0dae0f2a-a148-4270-f093-7c7a33e6dc63"
      },
      "execution_count": 41,
      "outputs": [
        {
          "output_type": "stream",
          "name": "stdout",
          "text": [
            "x.size(): torch.Size([30, 5, 1024])\n",
            "qkv.size(): torch.Size([30, 5, 1536])\n",
            "qkv.size(): torch.Size([30, 5, 8, 192])\n",
            "qkv.size(): torch.Size([30, 8, 5, 192])\n",
            "q size: torch.Size([30, 8, 5, 64]), k size: torch.Size([30, 8, 5, 64]), v size: torch.Size([30, 8, 5, 64]), \n",
            "values.size(): torch.Size([30, 8, 5, 64]), attention.size:torch.Size([30, 8, 5, 5]) \n",
            "values.size(): torch.Size([30, 5, 512])\n",
            "out.size(): torch.Size([30, 5, 512])\n"
          ]
        }
      ]
    }
  ]
}