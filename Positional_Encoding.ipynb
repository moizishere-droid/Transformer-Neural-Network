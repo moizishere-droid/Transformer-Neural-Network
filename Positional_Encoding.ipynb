{
  "nbformat": 4,
  "nbformat_minor": 0,
  "metadata": {
    "colab": {
      "provenance": [],
      "gpuType": "T4"
    },
    "kernelspec": {
      "name": "python3",
      "display_name": "Python 3"
    },
    "language_info": {
      "name": "python"
    },
    "accelerator": "GPU"
  },
  "cells": [
    {
      "cell_type": "code",
      "source": [
        "import torch\n",
        "import torch.nn as nn"
      ],
      "metadata": {
        "id": "40eBTbQXnbBx"
      },
      "execution_count": 3,
      "outputs": []
    },
    {
      "cell_type": "code",
      "source": [
        "\"\"\"\n",
        "So imagine we have a sentence with up to 10 tokens,\n",
        "and each token embedding has 6 features (numbers).\n",
        "\"\"\"\n",
        "max_sequence_length = 10  # how many positions (tokens) in one sequence\n",
        "d_model = 6               # dimension of each embedding vector"
      ],
      "metadata": {
        "id": "iu4Uuw3loLQv"
      },
      "execution_count": 6,
      "outputs": []
    },
    {
      "cell_type": "markdown",
      "source": [
        "![image.png](data:image/png;base64,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)"
      ],
      "metadata": {
        "id": "BamKem_LooW3"
      }
    },
    {
      "cell_type": "code",
      "source": [
        "\"\"\"\n",
        "Why?\n",
        "Because for even dimensions we’ll use sin(),\n",
        "and for odd dimensions we’ll use cos().\n",
        "\n",
        "This pattern (sin for even, cos for odd) helps the model easily learn relative positions.\n",
        "\"\"\"\n",
        "\n",
        "even_i = torch.arange(0, d_model, 2).float()  # -> [0., 2., 4.]\n",
        "odd_i = torch.arange(1, d_model, 2).float()   # -> [1., 3., 5.]"
      ],
      "metadata": {
        "id": "aRnD9s-HoSFJ"
      },
      "execution_count": 7,
      "outputs": []
    },
    {
      "cell_type": "code",
      "source": [
        "print(even_i)\n",
        "print(odd_i)"
      ],
      "metadata": {
        "colab": {
          "base_uri": "https://localhost:8080/"
        },
        "id": "HGgwx8FYowMu",
        "outputId": "c951992c-bf88-44b3-8f4b-2508f3179bfa"
      },
      "execution_count": 9,
      "outputs": [
        {
          "output_type": "stream",
          "name": "stdout",
          "text": [
            "tensor([0., 2., 4.])\n",
            "tensor([1., 3., 5.])\n"
          ]
        }
      ]
    },
    {
      "cell_type": "code",
      "source": [
        "\"\"\"\n",
        "This line creates scaling factors like:\n",
        "\n",
        "[1.0000, 21.5443, 464.1590]\n",
        "\n",
        "This means:\n",
        "The first dimension changes quickly (short wavelength)\n",
        "The last dimension changes slowly (long wavelength)\n",
        "→ So each dimension captures position at a different frequency.\n",
        "\"\"\"\n",
        "\n",
        "denominator = torch.pow(10000, even_i / d_model)"
      ],
      "metadata": {
        "id": "cb_p92Dwo3wS"
      },
      "execution_count": 11,
      "outputs": []
    },
    {
      "cell_type": "code",
      "source": [
        "\"\"\"\n",
        "Each row = one token’s position in the sequence.\n",
        "\"\"\"\n",
        "\n",
        "position = torch.arange(max_sequence_length, dtype=torch.float).reshape(max_sequence_length, 1)\n",
        "position"
      ],
      "metadata": {
        "colab": {
          "base_uri": "https://localhost:8080/"
        },
        "id": "6wJPoVyBpErk",
        "outputId": "07c628da-35cc-4a54-bf5c-61f8ff997746"
      },
      "execution_count": 12,
      "outputs": [
        {
          "output_type": "execute_result",
          "data": {
            "text/plain": [
              "tensor([[0.],\n",
              "        [1.],\n",
              "        [2.],\n",
              "        [3.],\n",
              "        [4.],\n",
              "        [5.],\n",
              "        [6.],\n",
              "        [7.],\n",
              "        [8.],\n",
              "        [9.]])"
            ]
          },
          "metadata": {},
          "execution_count": 12
        }
      ]
    },
    {
      "cell_type": "code",
      "source": [
        "\"\"\"\n",
        "Example result (first few):\n",
        "\n",
        "even_PE[1] ≈ [0.8415, 0.0464, 0.0022]\n",
        "odd_PE[1]  ≈ [0.5403, 0.9989, 1.0000]\n",
        "\n",
        "These values are small wave-like numbers between -1 and 1.\n",
        "\"\"\"\n",
        "\n",
        "even_PE = torch.sin(position / denominator)\n",
        "odd_PE  = torch.cos(position / denominator)"
      ],
      "metadata": {
        "id": "xe50vH9QppY7"
      },
      "execution_count": 13,
      "outputs": []
    },
    {
      "cell_type": "code",
      "source": [
        "\"\"\"\n",
        "We now interleave even and odd columns,\n",
        "so final vector = [sin(0), cos(0), sin(1), cos(1), sin(2), cos(2)]\n",
        "\n",
        "That gives shape [10, 6] — meaning:\n",
        "\n",
        "10 positions (tokens)\n",
        "\n",
        "each with a 6-dimensional positional vector\n",
        "\n",
        "✅ Final positional encoding matrix:\n",
        "\n",
        "tensor([[ 0.0000,  1.0000,  0.0000,  1.0000,  0.0000,  1.0000],\n",
        "        [ 0.8415,  0.5403,  0.0464,  0.9989,  0.0022,  1.0000],\n",
        "        ...\n",
        "])\n",
        "\"\"\"\n",
        "\n",
        "stacked = torch.stack([even_PE, odd_PE], dim=2)\n",
        "PE = torch.flatten(stacked, start_dim=1, end_dim=2)\n"
      ],
      "metadata": {
        "id": "NCi9saMspxE0"
      },
      "execution_count": 14,
      "outputs": []
    },
    {
      "cell_type": "code",
      "source": [
        "import torch\n",
        "import torch.nn as nn\n",
        "\n",
        "class PositionalEncoding(nn.Module):\n",
        "\n",
        "    def __init__(self, d_model, max_sequence_length):\n",
        "        super().__init__()\n",
        "        self.max_sequence_length = max_sequence_length\n",
        "        self.d_model = d_model\n",
        "\n",
        "    def forward(self):\n",
        "        even_i = torch.arange(0, self.d_model, 2).float()\n",
        "        denominator = torch.pow(10000, even_i/self.d_model)\n",
        "        position = torch.arange(self.max_sequence_length).reshape(self.max_sequence_length, 1)\n",
        "        even_PE = torch.sin(position / denominator)\n",
        "        odd_PE = torch.cos(position / denominator)\n",
        "        stacked = torch.stack([even_PE, odd_PE], dim=2)\n",
        "        PE = torch.flatten(stacked, start_dim=1, end_dim=2)\n",
        "        return PE"
      ],
      "metadata": {
        "id": "F2ElyrEqp7gq"
      },
      "execution_count": 15,
      "outputs": []
    },
    {
      "cell_type": "code",
      "source": [
        "pe = PositionalEncoding(d_model=6, max_sequence_length=10)\n",
        "pe.forward()"
      ],
      "metadata": {
        "colab": {
          "base_uri": "https://localhost:8080/"
        },
        "id": "US63p1W_qBBT",
        "outputId": "eb2c95f9-63cb-4e8c-c8e3-c91dc1ab87f1"
      },
      "execution_count": 16,
      "outputs": [
        {
          "output_type": "execute_result",
          "data": {
            "text/plain": [
              "tensor([[ 0.0000,  1.0000,  0.0000,  1.0000,  0.0000,  1.0000],\n",
              "        [ 0.8415,  0.5403,  0.0464,  0.9989,  0.0022,  1.0000],\n",
              "        [ 0.9093, -0.4161,  0.0927,  0.9957,  0.0043,  1.0000],\n",
              "        [ 0.1411, -0.9900,  0.1388,  0.9903,  0.0065,  1.0000],\n",
              "        [-0.7568, -0.6536,  0.1846,  0.9828,  0.0086,  1.0000],\n",
              "        [-0.9589,  0.2837,  0.2300,  0.9732,  0.0108,  0.9999],\n",
              "        [-0.2794,  0.9602,  0.2749,  0.9615,  0.0129,  0.9999],\n",
              "        [ 0.6570,  0.7539,  0.3192,  0.9477,  0.0151,  0.9999],\n",
              "        [ 0.9894, -0.1455,  0.3629,  0.9318,  0.0172,  0.9999],\n",
              "        [ 0.4121, -0.9111,  0.4057,  0.9140,  0.0194,  0.9998]])"
            ]
          },
          "metadata": {},
          "execution_count": 16
        }
      ]
    },
    {
      "cell_type": "code",
      "source": [],
      "metadata": {
        "id": "JaEHFG_MqDiG"
      },
      "execution_count": null,
      "outputs": []
    }
  ]
}