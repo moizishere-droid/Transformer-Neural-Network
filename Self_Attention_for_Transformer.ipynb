{
  "nbformat": 4,
  "nbformat_minor": 0,
  "metadata": {
    "colab": {
      "provenance": [],
      "gpuType": "T4"
    },
    "kernelspec": {
      "name": "python3",
      "display_name": "Python 3"
    },
    "language_info": {
      "name": "python"
    },
    "accelerator": "GPU"
  },
  "cells": [
    {
      "cell_type": "markdown",
      "source": [
        "# ***Generate Query,Key And Values Vector For Each Word***\n",
        "## ***👉 Think of this as: for each word, the model creates 3 vectors (Q, K, V).***"
      ],
      "metadata": {
        "id": "k_5ShhMsQIIT"
      }
    },
    {
      "cell_type": "code",
      "execution_count": 1,
      "metadata": {
        "id": "Ruef1aWlQBms"
      },
      "outputs": [],
      "source": [
        "import numpy as np\n",
        "L, d_k, d_v = 4, 8, 8 #--> length of word = 4 , dim of query key and value vector = 8\n",
        "q = np.random.randn(L, d_k)\n",
        "k = np.random.randn(L, d_k)\n",
        "v = np.random.randn(L, d_v)"
      ]
    },
    {
      "cell_type": "code",
      "source": [
        "print(\"Query Vector: \\n\",q[0])\n",
        "print(\"Key Vector: \\n\",k[0])\n",
        "print(\"Value Vector: \\n\",v[0])"
      ],
      "metadata": {
        "colab": {
          "base_uri": "https://localhost:8080/"
        },
        "id": "oxbIFMXWQicm",
        "outputId": "00fe78dd-6039-466b-f041-44fc49cb5216"
      },
      "execution_count": 2,
      "outputs": [
        {
          "output_type": "stream",
          "name": "stdout",
          "text": [
            "Query Vector: \n",
            " [ 1.23342342  0.37384648 -0.83759329  0.9508095   1.57232559 -0.12486714\n",
            "  0.31667598 -1.54425556]\n",
            "Key Vector: \n",
            " [-0.53175197 -0.207371    0.32410283 -0.1982549  -0.55739688  0.52738841\n",
            "  2.36916122  1.34216401]\n",
            "Value Vector: \n",
            " [ 0.85477811 -0.88271282 -0.19521454  0.38517066 -0.24088169  0.27566607\n",
            "  0.41157041 -0.90048944]\n"
          ]
        }
      ]
    },
    {
      "cell_type": "markdown",
      "source": [
        "![image.png](data:image/png;base64,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)"
      ],
      "metadata": {
        "id": "WZO6iDGISetb"
      }
    },
    {
      "cell_type": "code",
      "source": [
        "\"\"\"\n",
        "Multiply Q with K transpose → this gives us a similarity score between words.\n",
        "Shape = (L, L) → here (4×4).\n",
        "Each number says: How much should this word pay attention to another word?\n",
        "👉 Example: score[0,1] = how much word 0 should attend to word 1\n",
        "\"\"\"\n",
        "np.matmul(q, k.T)"
      ],
      "metadata": {
        "colab": {
          "base_uri": "https://localhost:8080/"
        },
        "id": "vpVtEKUsRFoW",
        "outputId": "365357bc-2aa9-444f-f95f-f579a301a3b5"
      },
      "execution_count": 3,
      "outputs": [
        {
          "output_type": "execute_result",
          "data": {
            "text/plain": [
              "array([[-3.45801987, -2.53901238,  4.05237147, -2.7434139 ],\n",
              "       [ 1.46920046,  2.22617554, -1.64970736,  2.24059765],\n",
              "       [-4.3275494 , -0.24211001,  2.16855253,  0.93212963],\n",
              "       [-5.82265157,  0.7990716 ,  1.79126061, -4.88007151]])"
            ]
          },
          "metadata": {},
          "execution_count": 3
        }
      ]
    },
    {
      "cell_type": "markdown",
      "source": [
        "# ***Why we need sqrt(d_k) in denominator***"
      ],
      "metadata": {
        "id": "wCl4dFT2VL7I"
      }
    },
    {
      "cell_type": "code",
      "source": [
        "q.var(), k.var(), np.matmul(q, k.T).var()"
      ],
      "metadata": {
        "colab": {
          "base_uri": "https://localhost:8080/"
        },
        "id": "52SlMytFVQci",
        "outputId": "e78369dd-450b-4692-c89a-c5e566a7788e"
      },
      "execution_count": 4,
      "outputs": [
        {
          "output_type": "execute_result",
          "data": {
            "text/plain": [
              "(np.float64(1.0629677650572704),\n",
              " np.float64(0.6867131309933279),\n",
              " np.float64(8.556439818497527))"
            ]
          },
          "metadata": {},
          "execution_count": 4
        }
      ]
    },
    {
      "cell_type": "code",
      "source": [
        "'''\n",
        "If we don’t divide, dot products get too large when d_k is big.\n",
        "Large values make softmax outputs very sharp (like 0 or 1), which makes learning unstable.\n",
        "Dividing by √d_k keeps values in a reasonable range → variance is smaller and stable.\n",
        "👉 It’s just a normalization trick\n",
        "'''\n",
        "\n",
        "import math\n",
        "scaled = np.matmul(q, k.T) / math.sqrt(d_k)\n",
        "q.var(), k.var(), scaled.var()"
      ],
      "metadata": {
        "colab": {
          "base_uri": "https://localhost:8080/"
        },
        "id": "_zkJyXcRSrVw",
        "outputId": "f4001c26-005b-46e5-e3b3-e25a6414a5cb"
      },
      "execution_count": 5,
      "outputs": [
        {
          "output_type": "execute_result",
          "data": {
            "text/plain": [
              "(np.float64(1.0629677650572704),\n",
              " np.float64(0.6867131309933279),\n",
              " np.float64(1.0695549773121908))"
            ]
          },
          "metadata": {},
          "execution_count": 5
        }
      ]
    },
    {
      "cell_type": "code",
      "source": [
        "scaled"
      ],
      "metadata": {
        "colab": {
          "base_uri": "https://localhost:8080/"
        },
        "id": "-5E0Z63iVfn4",
        "outputId": "c0c76c7d-2e5b-4915-8cc6-fc9d13bebef1"
      },
      "execution_count": 6,
      "outputs": [
        {
          "output_type": "execute_result",
          "data": {
            "text/plain": [
              "array([[-1.22259465, -0.89767644,  1.43272967, -0.96994329],\n",
              "       [ 0.5194408 ,  0.78707191, -0.58325963,  0.79217089],\n",
              "       [-1.53001976, -0.08559881,  0.7666991 ,  0.32955759],\n",
              "       [-2.0586182 ,  0.28251447,  0.63330626, -1.72536583]])"
            ]
          },
          "metadata": {},
          "execution_count": 6
        }
      ]
    },
    {
      "cell_type": "markdown",
      "source": [
        "# ***Masking***\n",
        "\n",
        "1. This is to ensure words don't get context from words generated in the\n",
        "future.\n",
        "2. Not required in the encoders, but required int he decoders\n",
        "\n"
      ],
      "metadata": {
        "id": "FjE4olGkUbwM"
      }
    },
    {
      "cell_type": "code",
      "source": [
        "\"\"\"\n",
        "Makes a lower triangular matrix.\n",
        "This prevents looking into the future words (important for text generation).\n",
        "Encoder: No mask needed (all words can see each other).\n",
        "Decoder: Mask needed (word at position i can only see positions ≤ i).\n",
        "👉 Example: when predicting the 3rd word, we don’t want to peek at the 4th word.\n",
        "\"\"\"\n",
        "\n",
        "mask = np.tril(np.ones( (L, L) ))\n",
        "mask"
      ],
      "metadata": {
        "colab": {
          "base_uri": "https://localhost:8080/"
        },
        "id": "jbPT42JrT9bl",
        "outputId": "e7a7d063-5a7e-45e6-8717-6fcd4d41acf5"
      },
      "execution_count": 7,
      "outputs": [
        {
          "output_type": "execute_result",
          "data": {
            "text/plain": [
              "array([[1., 0., 0., 0.],\n",
              "       [1., 1., 0., 0.],\n",
              "       [1., 1., 1., 0.],\n",
              "       [1., 1., 1., 1.]])"
            ]
          },
          "metadata": {},
          "execution_count": 7
        }
      ]
    },
    {
      "cell_type": "code",
      "source": [
        "mask[mask == 0] = -np.inf\n",
        "mask[mask == 1] = 0\n",
        "mask"
      ],
      "metadata": {
        "colab": {
          "base_uri": "https://localhost:8080/"
        },
        "id": "X1WcjmXGWCee",
        "outputId": "49f8ce6f-a518-45ad-ee71-1b451ea98bd3"
      },
      "execution_count": 8,
      "outputs": [
        {
          "output_type": "execute_result",
          "data": {
            "text/plain": [
              "array([[  0., -inf, -inf, -inf],\n",
              "       [  0.,   0., -inf, -inf],\n",
              "       [  0.,   0.,   0., -inf],\n",
              "       [  0.,   0.,   0.,   0.]])"
            ]
          },
          "metadata": {},
          "execution_count": 8
        }
      ]
    },
    {
      "cell_type": "code",
      "source": [
        "scaled + mask"
      ],
      "metadata": {
        "colab": {
          "base_uri": "https://localhost:8080/"
        },
        "id": "zFHdnNs5WEFb",
        "outputId": "836a6917-d8c2-4de0-bcc6-9309c2f7f291"
      },
      "execution_count": 9,
      "outputs": [
        {
          "output_type": "execute_result",
          "data": {
            "text/plain": [
              "array([[-1.22259465,        -inf,        -inf,        -inf],\n",
              "       [ 0.5194408 ,  0.78707191,        -inf,        -inf],\n",
              "       [-1.53001976, -0.08559881,  0.7666991 ,        -inf],\n",
              "       [-2.0586182 ,  0.28251447,  0.63330626, -1.72536583]])"
            ]
          },
          "metadata": {},
          "execution_count": 9
        }
      ]
    },
    {
      "cell_type": "markdown",
      "source": [
        "![image.png](data:image/png;base64,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)"
      ],
      "metadata": {
        "id": "W_6ESta4WZ_R"
      }
    },
    {
      "cell_type": "code",
      "source": [
        "def softmax(x):\n",
        "  return (np.exp(x).T / np.sum(np.exp(x), axis=-1)).T"
      ],
      "metadata": {
        "id": "1WTl6AsbWPza"
      },
      "execution_count": 10,
      "outputs": []
    },
    {
      "cell_type": "code",
      "source": [
        "\"\"\"\n",
        "Softmax takes each row of scores and converts them into probabilities (between 0 and 1).\n",
        "Row sums = 1.\n",
        "Now we know how much attention each word should give to others.\n",
        "👉 Example:\n",
        "If row = [0.7, 0.2, 0.1], word focuses 70% on word1, 20% on word2, 10% on word3.\n",
        "\"\"\"\n",
        "\n",
        "attention = softmax(scaled + mask)"
      ],
      "metadata": {
        "id": "2MYzO1abWdRF"
      },
      "execution_count": 11,
      "outputs": []
    },
    {
      "cell_type": "code",
      "source": [
        "attention"
      ],
      "metadata": {
        "colab": {
          "base_uri": "https://localhost:8080/"
        },
        "id": "ye00Y2M3Wfta",
        "outputId": "f0ce429e-3155-45cd-875a-298ce8d95291"
      },
      "execution_count": 12,
      "outputs": [
        {
          "output_type": "execute_result",
          "data": {
            "text/plain": [
              "array([[1.        , 0.        , 0.        , 0.        ],\n",
              "       [0.43348875, 0.56651125, 0.        , 0.        ],\n",
              "       [0.06587222, 0.27925847, 0.65486931, 0.        ],\n",
              "       [0.03629954, 0.37726123, 0.53578323, 0.05065599]])"
            ]
          },
          "metadata": {},
          "execution_count": 12
        }
      ]
    },
    {
      "cell_type": "code",
      "source": [
        "\"\"\"\n",
        "Each word gets a new representation.\n",
        "It’s a weighted sum of all value vectors (V), weighted by the attention probabilities.\n",
        "This means the word’s new meaning is influenced by the words it attends to.\n",
        "👉 Example: If word 1 attends mostly to word 3, its new vector is mostly based on V3.\n",
        "\"\"\"\n",
        "\n",
        "new_v = np.matmul(attention, v)\n",
        "new_v"
      ],
      "metadata": {
        "colab": {
          "base_uri": "https://localhost:8080/"
        },
        "id": "sAR9N_kzWhjf",
        "outputId": "2b07eb03-5eec-4b9c-e9b4-e5932f84f27e"
      },
      "execution_count": 13,
      "outputs": [
        {
          "output_type": "execute_result",
          "data": {
            "text/plain": [
              "array([[ 0.85477811, -0.88271282, -0.19521454,  0.38517066, -0.24088169,\n",
              "         0.27566607,  0.41157041, -0.90048944],\n",
              "       [ 0.03479235, -0.15705441,  0.49561016,  0.39553868, -0.06899277,\n",
              "        -0.21183451, -0.06671169, -0.43974098],\n",
              "       [-1.32005932, -1.35254265,  1.34484145,  1.47153947,  0.10034323,\n",
              "         0.56416415, -0.96562535,  0.20164793],\n",
              "       [-1.20946269, -1.10164482,  1.35285383,  1.26451592,  0.14014604,\n",
              "         0.36579434, -0.80409476,  0.2111656 ]])"
            ]
          },
          "metadata": {},
          "execution_count": 13
        }
      ]
    },
    {
      "cell_type": "code",
      "source": [
        "v"
      ],
      "metadata": {
        "colab": {
          "base_uri": "https://localhost:8080/"
        },
        "id": "hnCNzi3aWlVm",
        "outputId": "1afba733-9ac4-4262-9e39-b5b85606199c"
      },
      "execution_count": 14,
      "outputs": [
        {
          "output_type": "execute_result",
          "data": {
            "text/plain": [
              "array([[ 0.85477811, -0.88271282, -0.19521454,  0.38517066, -0.24088169,\n",
              "         0.27566607,  0.41157041, -0.90048944],\n",
              "       [-0.59265255,  0.39821215,  1.02422231,  0.40347218,  0.06253491,\n",
              "        -0.58486507, -0.43268837, -0.08718087],\n",
              "       [-1.84901352, -2.14638324,  1.636476  ,  2.03627561,  0.15078924,\n",
              "         1.0831687 , -1.33141759,  0.4356765 ],\n",
              "       [-0.51791451, -1.37864457,  1.90982842,  0.14445804,  0.87862448,\n",
              "        -0.07716592,  1.13615744,  0.8550766 ]])"
            ]
          },
          "metadata": {},
          "execution_count": 14
        }
      ]
    },
    {
      "cell_type": "markdown",
      "source": [
        "# ***Function***"
      ],
      "metadata": {
        "id": "7_6v0sYfWuxA"
      }
    },
    {
      "cell_type": "code",
      "source": [
        "\"\"\"\n",
        "This is the core of self-attention:\n",
        "Compute similarity (QKᵀ / √d_k).\n",
        "Apply mask (if needed).\n",
        "Softmax → attention weights.\n",
        "Multiply with V → new values.\n",
        "\"\"\"\n",
        "\n",
        "def scaled_dot_product_attention(q, k, v, mask=None):\n",
        "  d_k = q.shape[-1]\n",
        "  scaled = np.matmul(q, k.T) / math.sqrt(d_k)\n",
        "  if mask is not None:\n",
        "    scaled = scaled + mask\n",
        "  attention = softmax(scaled)\n",
        "  out = np.matmul(attention, v)\n",
        "  return out, attention\n",
        ""
      ],
      "metadata": {
        "id": "dd_ugv4SWou0"
      },
      "execution_count": 15,
      "outputs": []
    },
    {
      "cell_type": "code",
      "source": [
        "values, attention = scaled_dot_product_attention(q, k, v, mask=mask)\n",
        "print(\"Q\\n\", q[0])\n",
        "print(\"K\\n\", k[0])\n",
        "print(\"V\\n\", v[0])\n",
        "\n",
        "\n",
        "\"\"\"\n",
        "These are the new representations of words, after mixing in context from others.\n",
        "They are what gets passed to the next Transformer layer.\n",
        "\"\"\"\n",
        "print(\"New V\\n\", values)\n",
        "\n",
        "\n",
        "\"\"\"\n",
        "Each row tells how much a word attends to others.\n",
        "Row 0 attends only to itself ([1,0,0,0]) because of masking.\n",
        "Row 2 attends mostly to word0, a bit to word1 and word2.\n",
        "Row 3 attends mostly to word2.\n",
        "\"\"\"\n",
        "print(\"Attention\\n\", attention)"
      ],
      "metadata": {
        "colab": {
          "base_uri": "https://localhost:8080/"
        },
        "id": "VO0BvzBxWzxr",
        "outputId": "8e62cf29-4a7d-49e2-cf7c-09ff29634272"
      },
      "execution_count": 16,
      "outputs": [
        {
          "output_type": "stream",
          "name": "stdout",
          "text": [
            "Q\n",
            " [ 1.23342342  0.37384648 -0.83759329  0.9508095   1.57232559 -0.12486714\n",
            "  0.31667598 -1.54425556]\n",
            "K\n",
            " [-0.53175197 -0.207371    0.32410283 -0.1982549  -0.55739688  0.52738841\n",
            "  2.36916122  1.34216401]\n",
            "V\n",
            " [ 0.85477811 -0.88271282 -0.19521454  0.38517066 -0.24088169  0.27566607\n",
            "  0.41157041 -0.90048944]\n",
            "New V\n",
            " [[ 0.85477811 -0.88271282 -0.19521454  0.38517066 -0.24088169  0.27566607\n",
            "   0.41157041 -0.90048944]\n",
            " [ 0.03479235 -0.15705441  0.49561016  0.39553868 -0.06899277 -0.21183451\n",
            "  -0.06671169 -0.43974098]\n",
            " [-1.32005932 -1.35254265  1.34484145  1.47153947  0.10034323  0.56416415\n",
            "  -0.96562535  0.20164793]\n",
            " [-1.20946269 -1.10164482  1.35285383  1.26451592  0.14014604  0.36579434\n",
            "  -0.80409476  0.2111656 ]]\n",
            "Attention\n",
            " [[1.         0.         0.         0.        ]\n",
            " [0.43348875 0.56651125 0.         0.        ]\n",
            " [0.06587222 0.27925847 0.65486931 0.        ]\n",
            " [0.03629954 0.37726123 0.53578323 0.05065599]]\n"
          ]
        }
      ]
    },
    {
      "cell_type": "markdown",
      "source": [
        "# ✅ In short:\n",
        "\n",
        "### QKᵀ → similarity scores\n",
        "### ÷√d_k → normalize\n",
        "### mask → block future words\n",
        "### softmax → attention probabilities\n",
        "### attention × V → new word embeddings"
      ],
      "metadata": {
        "id": "jj_2tWeqYcOo"
      }
    },
    {
      "cell_type": "code",
      "source": [],
      "metadata": {
        "id": "rEUrM1JsW3SE"
      },
      "execution_count": null,
      "outputs": []
    }
  ]
}